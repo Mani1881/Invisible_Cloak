{
 "cells": [
  {
   "cell_type": "code",
   "execution_count": null,
   "metadata": {},
   "outputs": [],
   "source": [
    "# Designed the invisible cloak by creating the simple computer vision techniques using OpenCV and Numpy. Used 2 algo of Color detection and segmentation technique of image processing to create the magical effect."
   ]
  },
  {
   "cell_type": "code",
   "execution_count": 6,
   "metadata": {},
   "outputs": [
    {
     "name": "stderr",
     "output_type": "stream",
     "text": [
      "\n",
      "Usage:   \n",
      "  C:\\Users\\MANEESHA\\AppData\\Local\\Microsoft\\WindowsApps\\PythonSoftwareFoundation.Python.3.11_qbz5n2kfra8p0\\python.exe -m pip <command> [options]\n",
      "\n",
      "no such option: -i\n"
     ]
    }
   ],
   "source": [
    "!pip -install numpy\n",
    "\n"
   ]
  },
  {
   "cell_type": "code",
   "execution_count": 7,
   "metadata": {},
   "outputs": [
    {
     "name": "stdout",
     "output_type": "stream",
     "text": [
      "Collecting opencv-python\n",
      "  Downloading opencv_python-4.10.0.84-cp37-abi3-win_amd64.whl.metadata (20 kB)\n",
      "Requirement already satisfied: numpy>=1.21.2 in c:\\users\\maneesha\\appdata\\local\\packages\\pythonsoftwarefoundation.python.3.11_qbz5n2kfra8p0\\localcache\\local-packages\\python311\\site-packages (from opencv-python) (1.26.4)\n",
      "Downloading opencv_python-4.10.0.84-cp37-abi3-win_amd64.whl (38.8 MB)\n",
      "   ---------------------------------------- 0.0/38.8 MB ? eta -:--:--\n",
      "   - -------------------------------------- 1.0/38.8 MB 6.3 MB/s eta 0:00:07\n",
      "   - -------------------------------------- 1.8/38.8 MB 4.8 MB/s eta 0:00:08\n",
      "   -- ------------------------------------- 2.6/38.8 MB 4.3 MB/s eta 0:00:09\n",
      "   --- ------------------------------------ 3.7/38.8 MB 4.3 MB/s eta 0:00:09\n",
      "   ---- ----------------------------------- 4.5/38.8 MB 4.1 MB/s eta 0:00:09\n",
      "   ----- ---------------------------------- 5.2/38.8 MB 4.1 MB/s eta 0:00:09\n",
      "   ------ --------------------------------- 6.0/38.8 MB 4.1 MB/s eta 0:00:08\n",
      "   ------- -------------------------------- 6.8/38.8 MB 4.0 MB/s eta 0:00:08\n",
      "   ------- -------------------------------- 7.6/38.8 MB 4.1 MB/s eta 0:00:08\n",
      "   -------- ------------------------------- 8.4/38.8 MB 4.0 MB/s eta 0:00:08\n",
      "   --------- ------------------------------ 9.2/38.8 MB 4.0 MB/s eta 0:00:08\n",
      "   ---------- ----------------------------- 10.0/38.8 MB 4.0 MB/s eta 0:00:08\n",
      "   ----------- ---------------------------- 11.0/38.8 MB 4.0 MB/s eta 0:00:07\n",
      "   ------------ --------------------------- 11.8/38.8 MB 4.0 MB/s eta 0:00:07\n",
      "   ------------ --------------------------- 12.6/38.8 MB 4.0 MB/s eta 0:00:07\n",
      "   ------------- -------------------------- 13.4/38.8 MB 4.0 MB/s eta 0:00:07\n",
      "   -------------- ------------------------- 14.4/38.8 MB 4.0 MB/s eta 0:00:07\n",
      "   --------------- ------------------------ 15.2/38.8 MB 4.0 MB/s eta 0:00:06\n",
      "   ---------------- ----------------------- 16.0/38.8 MB 4.0 MB/s eta 0:00:06\n",
      "   ----------------- ---------------------- 16.8/38.8 MB 4.0 MB/s eta 0:00:06\n",
      "   ------------------ --------------------- 17.6/38.8 MB 4.0 MB/s eta 0:00:06\n",
      "   ------------------ --------------------- 18.4/38.8 MB 4.0 MB/s eta 0:00:06\n",
      "   ------------------- -------------------- 19.4/38.8 MB 4.0 MB/s eta 0:00:05\n",
      "   -------------------- ------------------- 20.2/38.8 MB 3.9 MB/s eta 0:00:05\n",
      "   --------------------- ------------------ 21.0/38.8 MB 4.0 MB/s eta 0:00:05\n",
      "   ---------------------- ----------------- 21.8/38.8 MB 3.9 MB/s eta 0:00:05\n",
      "   ----------------------- ---------------- 22.5/38.8 MB 3.9 MB/s eta 0:00:05\n",
      "   ------------------------ --------------- 23.6/38.8 MB 3.9 MB/s eta 0:00:04\n",
      "   ------------------------- -------------- 24.4/38.8 MB 3.9 MB/s eta 0:00:04\n",
      "   ------------------------- -------------- 25.2/38.8 MB 3.9 MB/s eta 0:00:04\n",
      "   -------------------------- ------------- 26.0/38.8 MB 3.9 MB/s eta 0:00:04\n",
      "   --------------------------- ------------ 26.7/38.8 MB 3.9 MB/s eta 0:00:04\n",
      "   ---------------------------- ----------- 27.5/38.8 MB 3.9 MB/s eta 0:00:03\n",
      "   ----------------------------- ---------- 28.6/38.8 MB 3.9 MB/s eta 0:00:03\n",
      "   ------------------------------ --------- 29.4/38.8 MB 3.9 MB/s eta 0:00:03\n",
      "   ------------------------------- -------- 30.1/38.8 MB 3.9 MB/s eta 0:00:03\n",
      "   ------------------------------- -------- 30.9/38.8 MB 3.9 MB/s eta 0:00:03\n",
      "   -------------------------------- ------- 31.7/38.8 MB 3.9 MB/s eta 0:00:02\n",
      "   --------------------------------- ------ 32.8/38.8 MB 3.9 MB/s eta 0:00:02\n",
      "   ---------------------------------- ----- 33.6/38.8 MB 3.9 MB/s eta 0:00:02\n",
      "   ----------------------------------- ---- 34.3/38.8 MB 3.9 MB/s eta 0:00:02\n",
      "   ------------------------------------ --- 35.1/38.8 MB 3.9 MB/s eta 0:00:01\n",
      "   ------------------------------------- -- 36.2/38.8 MB 3.9 MB/s eta 0:00:01\n",
      "   -------------------------------------- - 37.0/38.8 MB 3.9 MB/s eta 0:00:01\n",
      "   -------------------------------------- - 37.7/38.8 MB 3.9 MB/s eta 0:00:01\n",
      "   ---------------------------------------  38.5/38.8 MB 3.9 MB/s eta 0:00:01\n",
      "   ---------------------------------------- 38.8/38.8 MB 3.9 MB/s eta 0:00:00\n",
      "Installing collected packages: opencv-python\n",
      "Successfully installed opencv-python-4.10.0.84\n"
     ]
    }
   ],
   "source": [
    "!pip install opencv-python\n"
   ]
  },
  {
   "cell_type": "code",
   "execution_count": null,
   "metadata": {},
   "outputs": [],
   "source": [
    "import numpy as np\n",
    "import cv2 \n",
    "import time\n",
    "cap=cv2.VideoCapture(0)#Read from the default web cam i.e why 0\n",
    "\n",
    "time.sleep(3) #for the system to sleep for 3 second before the webcam starts\n",
    "for i in range(30):\n",
    "    retval,back=cap.read()\n",
    "back=np.flip(back,axis=1) #images captured is mirror image so we need to flip it again to get the original background amd axis=1 means laterally invert image\n",
    "cap=cv2.VideoCapture(0)  \n",
    "\n",
    "\n",
    "\n",
    "## detecting the red portion In each frame\n",
    "\n",
    "\n",
    "while (cap.isOpened()):  ##Read every Frame from the webcam, until the camera is open \n",
    "    ret,img=cap.read()\n",
    "    if ret:\n",
    "        img=np.flip(img,axis=1)\n",
    "        \n",
    "        ##convert the color space from BGR to HSV because BGR  cant detect colour efficiently\n",
    "        hsv=cv2.cvtColor(img,cv2.COLOR_BGR2HSV)\n",
    "        \n",
    "        ##Generat masks to detect red color\n",
    "        lower_red = np.array([0,120,70])\n",
    "        upper_red = np.array([10,255,255])\n",
    "        mask1 = cv2.inRange(hsv,lower_red,upper_red)\n",
    "        \n",
    "        lower_red = np.array([170,120,70])\n",
    "        upper_red = np.array([180,255,255])\n",
    "        mask2 = cv2.inRange(hsv,lower_red,upper_red)\n",
    "        mask1+=mask2\n",
    "        \n",
    "        ###Replacing the red portion with a mask image in each frame\n",
    "\n",
    "        mask = cv2.morphologyEx(mask1, cv2.MORPH_OPEN, np.ones((5,5),np.uint8))\n",
    "        img[np.where(mask==255)]=back[np.where(mask==255)]\n",
    "        \n",
    "         #Final output\n",
    "        cv2.imshow(\"Harry Potter's invisible secret revealed\",img)\n",
    "    key = cv2.waitKey(1)\n",
    "    if key==ord(\"q\"):\n",
    "        break\n",
    "cap.release()\n",
    "cv2.destroyAllWindows()"
   ]
  },
  {
   "cell_type": "code",
   "execution_count": null,
   "metadata": {},
   "outputs": [],
   "source": []
  }
 ],
 "metadata": {
  "kernelspec": {
   "display_name": "Python 3",
   "language": "python",
   "name": "python3"
  },
  "language_info": {
   "codemirror_mode": {
    "name": "ipython",
    "version": 3
   },
   "file_extension": ".py",
   "mimetype": "text/x-python",
   "name": "python",
   "nbconvert_exporter": "python",
   "pygments_lexer": "ipython3",
   "version": "3.11.9"
  }
 },
 "nbformat": 4,
 "nbformat_minor": 2
}
